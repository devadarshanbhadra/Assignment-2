{
  "nbformat": 4,
  "nbformat_minor": 0,
  "metadata": {
    "colab": {
      "provenance": []
    },
    "kernelspec": {
      "name": "python3",
      "display_name": "Python 3"
    },
    "language_info": {
      "name": "python"
    }
  },
  "cells": [
    {
      "cell_type": "code",
      "execution_count": null,
      "metadata": {
        "id": "PTNLaBFcwqqg"
      },
      "outputs": [],
      "source": []
    },
    {
      "cell_type": "markdown",
      "source": [
        "1.  What is indentation error? Why indentation is important? Give one simple example?"
      ],
      "metadata": {
        "id": "1_2rD-A5w42E"
      }
    },
    {
      "cell_type": "markdown",
      "source": [
        "Answer:- \n",
        "- Indentattion error is the space given under the if- else condition. if indentation error is not given if else condition will not give output.\n",
        "- Indentation error allows a contion to run for logical,equality and comparision operators."
      ],
      "metadata": {
        "id": "uj3o0H1CxBCF"
      }
    },
    {
      "cell_type": "markdown",
      "source": [
        "Example-1 indentation is not given so indentation errto is showing."
      ],
      "metadata": {
        "id": "A5XywjTrfh-H"
      }
    },
    {
      "cell_type": "code",
      "source": [
        "movie = True\n",
        "if movie:\n",
        "print(f\"then we wil go with family and ejoy this weekend\")\n",
        "else:\n",
        "print(f\"then we wil go with family and ejoy this weekend\")\n"
      ],
      "metadata": {
        "colab": {
          "base_uri": "https://localhost:8080/",
          "height": 130
        },
        "id": "WiNPBBqL1zic",
        "outputId": "139925c5-3bb9-4574-e9e6-5b833ea2a49c"
      },
      "execution_count": 86,
      "outputs": [
        {
          "output_type": "error",
          "ename": "IndentationError",
          "evalue": "ignored",
          "traceback": [
            "\u001b[0;36m  File \u001b[0;32m\"<ipython-input-86-7b0bef22e759>\"\u001b[0;36m, line \u001b[0;32m3\u001b[0m\n\u001b[0;31m    print(f\"then we wil go with family and ejoy this weekend\")\u001b[0m\n\u001b[0m    ^\u001b[0m\n\u001b[0;31mIndentationError\u001b[0m\u001b[0;31m:\u001b[0m expected an indented block\n"
          ]
        }
      ]
    },
    {
      "cell_type": "markdown",
      "source": [
        "1. Example- indentation given hence output is printed."
      ],
      "metadata": {
        "id": "yYQ6naF44D0n"
      }
    },
    {
      "cell_type": "code",
      "source": [
        "movie = True\n",
        "if movie:\n",
        "  print(f\"then we wil go with family and ejoy this weekend\")\n",
        "else:\n",
        "  print(f\"then we wil go with family and ejoy this weekend\")"
      ],
      "metadata": {
        "colab": {
          "base_uri": "https://localhost:8080/"
        },
        "id": "sm1HcxTO3Lhy",
        "outputId": "00cc7ad0-b184-408c-eca3-e5c7af578be3"
      },
      "execution_count": 13,
      "outputs": [
        {
          "output_type": "stream",
          "name": "stdout",
          "text": [
            "then we wil go with family and ejoy this weekend\n"
          ]
        }
      ]
    },
    {
      "cell_type": "markdown",
      "source": [
        "2. Correct the following code and write the comment where you made the correction?"
      ],
      "metadata": {
        "id": "9p-MjQUO4kBS"
      }
    },
    {
      "cell_type": "code",
      "source": [
        "class_started = bool(input(\"Hey friend, is class started?: [0-False/1-True]\"))\n",
        "\n",
        "if class_started:\n",
        "   print(\"Since class started...\")\n",
        "   print(\"Lets concentrate\")\n",
        "else:\n",
        "   print(\"Since class is not started...\")\n",
        "   print(\"let's revise\") "
      ],
      "metadata": {
        "colab": {
          "base_uri": "https://localhost:8080/"
        },
        "id": "f2JmIa-b4k0r",
        "outputId": "730b3c9d-3f19-4021-dbb0-6eb91b784406"
      },
      "execution_count": 14,
      "outputs": [
        {
          "output_type": "stream",
          "name": "stdout",
          "text": [
            "Hey friend, is class started?: [0-False/1-True]True\n",
            "Since class started...\n",
            "Lets concentrate\n"
          ]
        }
      ]
    },
    {
      "cell_type": "markdown",
      "source": [
        "3. Use if else condition to verify that dataype of `input()` method in python is always string."
      ],
      "metadata": {
        "id": "zn035B6f_CEh"
      }
    },
    {
      "cell_type": "code",
      "source": [
        "data_type_of_input_method = True\n",
        "if data_type_of_input_method:\n",
        "  print(f\"data type of input method is always a string: \")\n",
        "else:\n",
        "  print(f\"data tyep input method is not string\")"
      ],
      "metadata": {
        "colab": {
          "base_uri": "https://localhost:8080/"
        },
        "id": "RiFTrg_A_EZ5",
        "outputId": "c3402b02-8934-4486-95d8-f62a80690fd6"
      },
      "execution_count": 15,
      "outputs": [
        {
          "output_type": "stream",
          "name": "stdout",
          "text": [
            "data type of input method is always a string: \n"
          ]
        }
      ]
    },
    {
      "cell_type": "markdown",
      "source": [
        "4. Take 3 variables and assign integer values to them. Find the largest variable, by only using the if and else conditions."
      ],
      "metadata": {
        "id": "lGNJtozf_93q"
      }
    },
    {
      "cell_type": "code",
      "source": [
        "## Taking a,b,c variables\n",
        "a = 1\n",
        "b = 3\n",
        "c = 5\n",
        "if a>b>c:\n",
        "  print(f\"a:{a}> b:{b} >c:{c}\")\n",
        "else:\n",
        "  print(f\"c>b>a: \")\n",
        "  print(f\"{5}>{3}>{1}\")\n",
        "  print(f\"largest variable is: c\" )\n"
      ],
      "metadata": {
        "colab": {
          "base_uri": "https://localhost:8080/"
        },
        "id": "nEazFBGC_kwb",
        "outputId": "c1d9102a-fab0-4c19-c96e-4da477137095"
      },
      "execution_count": 16,
      "outputs": [
        {
          "output_type": "stream",
          "name": "stdout",
          "text": [
            "c>b>a: \n",
            "5>3>1\n",
            "largest variable is: c\n"
          ]
        }
      ]
    },
    {
      "cell_type": "markdown",
      "source": [
        "5. What would be the solution?\n",
        "    1. True\n",
        "    2. False\n",
        "\n",
        "    ```python\n",
        "    a = 6\n",
        "    b = 10\n",
        "    print( not ( not a == 10 or not b == 10) )"
      ],
      "metadata": {
        "id": "Q_d3fv5ADVsy"
      }
    },
    {
      "cell_type": "code",
      "source": [
        "## Taking a & b values\n",
        "a = 6\n",
        "b = 10\n",
        "if a is not b:\n",
        "  print( not ( not a == 10 or not b == 10) )\n",
        "  print(f\"statement is true\")\n",
        "else:\n",
        "  print( not ( not a == 10 or not b == 10) )\n",
        "  print(f\"statement is false\")"
      ],
      "metadata": {
        "colab": {
          "base_uri": "https://localhost:8080/"
        },
        "id": "pbBJroyHBtav",
        "outputId": "76ce146a-c2c6-4cd6-95ca-05e62f35f685"
      },
      "execution_count": 2,
      "outputs": [
        {
          "output_type": "stream",
          "name": "stdout",
          "text": [
            "False\n",
            "statement is true\n"
          ]
        }
      ]
    },
    {
      "cell_type": "markdown",
      "source": [
        "6. Find the answer as well as find out the reason behind the result? -\n",
        "    - case 1:\n",
        "        ```python\n",
        "        A = 5.0\n",
        "        B = 10/2\n",
        "        print(A is B)\n",
        "        ```\n",
        "    - case 2:\n",
        "        ```python\n",
        "        A = 5.0\n",
        "        B = int(10/2)\n",
        "        print(A is B)\n",
        "        ```\n",
        "    - case 3:\n",
        "        ```python\n",
        "        A = 5.0\n",
        "        B = float(10/2)\n",
        "        print(A is B)\n",
        "        ```"
      ],
      "metadata": {
        "id": "ZVZKq6ycF8AK"
      }
    },
    {
      "cell_type": "code",
      "source": [
        "# Case - 1\n",
        "A = 5.0\n",
        "B =  10/2\n",
        "if A == B:     # A is float type & B is float type so A != B\n",
        "    print(f\"Then A is equal to B: \")\n",
        "else:\n",
        "    print(f\"A is not equal to B: \")"
      ],
      "metadata": {
        "colab": {
          "base_uri": "https://localhost:8080/"
        },
        "id": "K3W7vB7DLB6H",
        "outputId": "d842abde-ac3c-4a0a-8ad2-989497c6f533"
      },
      "execution_count": 3,
      "outputs": [
        {
          "output_type": "stream",
          "name": "stdout",
          "text": [
            "Then A is equal to B: \n"
          ]
        }
      ]
    },
    {
      "cell_type": "code",
      "source": [
        "# Case - 2\n",
        "A = 5.0\n",
        "B = int(10/2)\n",
        "if A == B:     # A is float type & B is integer type so A != B\n",
        "    print(f\"Then A is equal to B: \")\n",
        "else:\n",
        "    print(f\"A is not equal to B: \")\n"
      ],
      "metadata": {
        "colab": {
          "base_uri": "https://localhost:8080/"
        },
        "id": "FiH0YluvI-lR",
        "outputId": "90ae23b3-1b70-4a75-ca2d-15f7836cc678"
      },
      "execution_count": 4,
      "outputs": [
        {
          "output_type": "stream",
          "name": "stdout",
          "text": [
            "Then A is equal to B: \n"
          ]
        }
      ]
    },
    {
      "cell_type": "code",
      "source": [
        "  A = 5.0\n",
        "  B = float(10/2)\n",
        "  if A == B:           # A is float type & B is float type so A = B\n",
        "    print(f\"Then A is equal to B: \")\n",
        "  else:\n",
        "    print(f\"A is not equal to B: \")"
      ],
      "metadata": {
        "colab": {
          "base_uri": "https://localhost:8080/"
        },
        "id": "XtMkuAWgBS93",
        "outputId": "58461564-735d-4106-a495-b98ac4277268"
      },
      "execution_count": 5,
      "outputs": [
        {
          "output_type": "stream",
          "name": "stdout",
          "text": [
            "Then A is equal to B: \n"
          ]
        }
      ]
    },
    {
      "cell_type": "markdown",
      "source": [
        "### Try to understand the following examples and answer the question based on it - \n",
        "    \n",
        "**Arithmatic Operators**\n",
        "\n",
        "|Operation|Meaning|\n",
        "|:-:|:-:|\n",
        "| **+** |addition|\n",
        "| **-** |subtraction|\n",
        "| **\\*** |multiplication|\n",
        "| **/** |true division|\n",
        "| **//** |integer division|\n",
        "| **%** |the modulo operator|"
      ],
      "metadata": {
        "id": "rWu3Ti6dFCb5"
      }
    },
    {
      "cell_type": "code",
      "source": [
        "var_a = 5\n",
        "var_b = 25\n",
        "integer_division = var_b//var_a\n",
        "print(f\"integer division is :var_b//var_a = {integer_division} \")"
      ],
      "metadata": {
        "colab": {
          "base_uri": "https://localhost:8080/"
        },
        "id": "MzqKyWhmFDDB",
        "outputId": "e97ef391-172d-4f95-a6ad-fab5508bd18a"
      },
      "execution_count": 6,
      "outputs": [
        {
          "output_type": "stream",
          "name": "stdout",
          "text": [
            "integer division is :var_b//var_a = 5 \n"
          ]
        }
      ]
    },
    {
      "cell_type": "code",
      "source": [
        "var_a = 5\n",
        "var_b = 25\n",
        "remainder = var_b % var_a\n",
        "print(f\"remainder is :var_b % var_a = {remainder} \")"
      ],
      "metadata": {
        "colab": {
          "base_uri": "https://localhost:8080/"
        },
        "id": "glVlMNPKFyy9",
        "outputId": "1d5be05b-b6b0-4a1f-88f9-8828dd675e85"
      },
      "execution_count": 7,
      "outputs": [
        {
          "output_type": "stream",
          "name": "stdout",
          "text": [
            "remainder is :var_b % var_a = 0 \n"
          ]
        }
      ]
    },
    {
      "cell_type": "code",
      "source": [
        "var_a = 5\n",
        "var_b = 25\n",
        "multiplication = var_b * var_a\n",
        "print(f\"multiplication is :var_b * var_a = {multiplication} \")"
      ],
      "metadata": {
        "colab": {
          "base_uri": "https://localhost:8080/"
        },
        "id": "AK02b1SrGY2Q",
        "outputId": "c9187fee-8a79-4dec-8f48-fcb8d2b6beb3"
      },
      "execution_count": 8,
      "outputs": [
        {
          "output_type": "stream",
          "name": "stdout",
          "text": [
            "multiplication is :var_b * var_a = 125 \n"
          ]
        }
      ]
    },
    {
      "cell_type": "code",
      "source": [
        "var_a = 5\n",
        "var_b = 25\n",
        "addition = var_b + var_a\n",
        "print(f\"addition is :var_b + var_a = {addition} \")"
      ],
      "metadata": {
        "colab": {
          "base_uri": "https://localhost:8080/"
        },
        "id": "_RHqJCn4G5Jb",
        "outputId": "d4a172df-63e8-4a40-8e01-12d0df3e27a2"
      },
      "execution_count": 9,
      "outputs": [
        {
          "output_type": "stream",
          "name": "stdout",
          "text": [
            "addition is :var_b + var_a = 30 \n"
          ]
        }
      ]
    },
    {
      "cell_type": "code",
      "source": [
        "var_a = 5\n",
        "var_b = 25\n",
        "true_division = var_b / var_a\n",
        "print(f\"true division is :var_b / var_a = {true_division} \")"
      ],
      "metadata": {
        "colab": {
          "base_uri": "https://localhost:8080/"
        },
        "id": "BbGhH2EfHD-1",
        "outputId": "82953ad3-af44-4225-9024-ed2c9c4878a4"
      },
      "execution_count": 10,
      "outputs": [
        {
          "output_type": "stream",
          "name": "stdout",
          "text": [
            "true division is :var_b / var_a = 5.0 \n"
          ]
        }
      ]
    },
    {
      "cell_type": "markdown",
      "source": [
        "### Answer below questions on the above theory - \n",
        "\n",
        "7. Write a program that asks the user to enter a number. You should print out a message to the user, either “That number is divisible by either 3 or 5”, or “That number is not divisible by either 3 or 5”. Be sure to consider the data type of the input you are taking in from the user. Use a single if/else block to solve this problem."
      ],
      "metadata": {
        "id": "TNlJYZQzHynV"
      }
    },
    {
      "cell_type": "code",
      "source": [
        "A = int(input(\"enter a number: \"))\n",
        "if A:\n",
        "  print(f\"A is divisible by 5: \")\n",
        "else:\n",
        "  print(f\"A is not divisible by 5: \")"
      ],
      "metadata": {
        "colab": {
          "base_uri": "https://localhost:8080/"
        },
        "id": "JPtKgKOMMNiX",
        "outputId": "d08ce263-ece8-41ed-c0d4-c88afe6eb668"
      },
      "execution_count": 39,
      "outputs": [
        {
          "output_type": "stream",
          "name": "stdout",
          "text": [
            "enter a number: 68\n",
            "A is divisible by 5: \n"
          ]
        }
      ]
    },
    {
      "cell_type": "code",
      "source": [
        "A = int(input(\"enter a number: \"))\n",
        "if A:\n",
        "  print(f\"A is divisible by 3: \")\n",
        "else:\n",
        "  print(f\"A is not divisible by 3: \")"
      ],
      "metadata": {
        "colab": {
          "base_uri": "https://localhost:8080/"
        },
        "id": "pPyqCbnRNeTw",
        "outputId": "bfc9f4d7-6fb2-40d4-8676-8a36d38c56d2"
      },
      "execution_count": 38,
      "outputs": [
        {
          "output_type": "stream",
          "name": "stdout",
          "text": [
            "enter a number: 24\n",
            "A is divisible by 3: \n"
          ]
        }
      ]
    },
    {
      "cell_type": "markdown",
      "source": [
        "8. Take user input for length and width. Then calculate the area of rectangle. Also print as per length and width whether its a square of rectangle."
      ],
      "metadata": {
        "id": "o4vJ84cwPLUp"
      }
    },
    {
      "cell_type": "code",
      "source": [
        "length = int(input(\"Enter length of object: \"))\n",
        "width = int(input(\"Enter width of object: \"))\n",
        "area_of_square = length*width\n",
        "print(f\"arae of square:(length)=(width) {length}={width}, thus it is square\")\n",
        "print(f\"area: {area} \")\n",
        " \n",
        "\n"
      ],
      "metadata": {
        "colab": {
          "base_uri": "https://localhost:8080/"
        },
        "id": "17RL7e27PLyO",
        "outputId": "4aa31c4c-8e79-4f29-e684-cf41315ba72c"
      },
      "execution_count": 60,
      "outputs": [
        {
          "output_type": "stream",
          "name": "stdout",
          "text": [
            "Enter length of object: 10\n",
            "Enter width of object: 10\n",
            "arae of square:(length)=(width) 10=10, thus it is square\n",
            "area: 200 \n"
          ]
        }
      ]
    },
    {
      "cell_type": "code",
      "source": [
        "length = int(input(\"Enter length of object: \"))\n",
        "width = int(input(\"Enter width of object: \"))\n",
        "area_of_rectangle = length*width\n",
        "print(f\"arae of rectangle:(length)!=(width) {length}!={width}, thus it is rectangle\")\n",
        "print(f\"area: {area_of_rectangle} \")"
      ],
      "metadata": {
        "colab": {
          "base_uri": "https://localhost:8080/"
        },
        "id": "dv8GhNekS8Nz",
        "outputId": "40c65241-ee9f-4eee-b6a3-2cfd4fd592e2"
      },
      "execution_count": 63,
      "outputs": [
        {
          "output_type": "stream",
          "name": "stdout",
          "text": [
            "Enter length of object: 30\n",
            "Enter width of object: 50\n",
            "arae of rectangle:(length)!=(width) 30!=50, thus it is rectangle\n",
            "area: 1500 \n"
          ]
        }
      ]
    },
    {
      "cell_type": "markdown",
      "source": [
        "9. Take two variable radius_1 and radius_2 and calculate the area of circle_1 and circle_2. Also print which circle has large area. If area is equal then print area is equal."
      ],
      "metadata": {
        "id": "IRYY9dcKVs8k"
      }
    },
    {
      "cell_type": "code",
      "source": [
        "r1 = 5\n",
        "r2 = 10\n",
        "area_of_circle_1 = r1**r1 \n",
        "print(f\"area of circle-1: {area_of_circle_1}\")\n",
        "\n",
        "area_of_circle_2 = r2**r2\n",
        "print(f\"area of circle-2: {area_of_circle_2}\")\n",
        "if area_of_circle_1 < area_of_circle_2:\n",
        "  print(f\"area_of_circle_1: {area_of_circle_1} < area_of_circle_2: {area_of_circle_2} \")\n",
        "  print(f\"area_of_circle_2: {area_of_circle_2} has large area\")\n",
        "else:\n",
        "  print(f\"both areas are equal: {area_of_circle_1}={area_of_circle_2}\")"
      ],
      "metadata": {
        "colab": {
          "base_uri": "https://localhost:8080/"
        },
        "id": "TCWCWBXXQR_Y",
        "outputId": "5bfc6cf9-8685-4526-f62c-501987cd0f4d"
      },
      "execution_count": 69,
      "outputs": [
        {
          "output_type": "stream",
          "name": "stdout",
          "text": [
            "area of circle-1: 3125\n",
            "area of circle-2: 10000000000\n",
            "area_of_circle_1: 3125 < area_of_circle_2: 10000000000 \n",
            "area_of_circle_2: 10000000000 has large area\n"
          ]
        }
      ]
    },
    {
      "cell_type": "markdown",
      "source": [
        "\n",
        "10. Check whether a year is leap year or not. Use nested if...else to solve this problem. A leap year is exactly divisible by 4 except for century years (years ending with 00). The century year is a leap year only if it is perfectly divisible by 400."
      ],
      "metadata": {
        "id": "X-aOPEV2Yh4-"
      }
    },
    {
      "cell_type": "code",
      "source": [
        "\n",
        "year = 2016\n",
        "if year % 4 == 0:\n",
        "    if year % 100 == 0:\n",
        "        if year % 400 == 0:\n",
        "            print(\"True\")\n",
        "        else:\n",
        "            print(\"False\")\n",
        "    else:\n",
        "        print(\"True\")\n",
        "else:\n",
        "    print(\"False\")\n"
      ],
      "metadata": {
        "colab": {
          "base_uri": "https://localhost:8080/"
        },
        "id": "v9DgttRoWkNv",
        "outputId": "99baed09-e113-43f3-be83-c73623be912d"
      },
      "execution_count": 78,
      "outputs": [
        {
          "output_type": "stream",
          "name": "stdout",
          "text": [
            "True\n"
          ]
        }
      ]
    },
    {
      "cell_type": "code",
      "source": [
        "year = 2016\n",
        "if ((year % 4 == 0 and year % 100 != 0) or (year % 400 == 0)):\n",
        "  print(\"True\")\n",
        "else:\n",
        "  print(\"False\")   # since 2016 is aleap year"
      ],
      "metadata": {
        "colab": {
          "base_uri": "https://localhost:8080/"
        },
        "id": "MWhw_rqGcxsF",
        "outputId": "be2b3aa6-4faa-4b27-bf67-a2bac3793fe0"
      },
      "execution_count": 82,
      "outputs": [
        {
          "output_type": "stream",
          "name": "stdout",
          "text": [
            "True\n"
          ]
        }
      ]
    },
    {
      "cell_type": "code",
      "source": [
        "year = 2000\n",
        "if ((year % 4 == 0 and year % 100 != 0) or (year % 400 == 0)):\n",
        "  print(\"True\")\n",
        "else:\n",
        "  print(\"False\")"
      ],
      "metadata": {
        "colab": {
          "base_uri": "https://localhost:8080/"
        },
        "id": "0_KAwcjPef7F",
        "outputId": "3de3f43b-651d-4c91-ab83-5407b5de1136"
      },
      "execution_count": 83,
      "outputs": [
        {
          "output_type": "stream",
          "name": "stdout",
          "text": [
            "True\n"
          ]
        }
      ]
    },
    {
      "cell_type": "code",
      "source": [
        "year = 2100\n",
        "if ((year % 4 == 0 and year % 100 != 0) or (year % 400 == 0)):\n",
        "  print(\"True\")\n",
        "else:\n",
        "  print(\"False\")"
      ],
      "metadata": {
        "colab": {
          "base_uri": "https://localhost:8080/"
        },
        "id": "s8i8VDUwe_Q5",
        "outputId": "c0fcd3ab-526a-47c9-f6e8-b609f5abbfe3"
      },
      "execution_count": 85,
      "outputs": [
        {
          "output_type": "stream",
          "name": "stdout",
          "text": [
            "False\n"
          ]
        }
      ]
    },
    {
      "cell_type": "code",
      "source": [
        "year = 2022\n",
        "if ((year % 4 == 0 and year % 100 != 0) or (year % 400 == 0)):\n",
        "  print(\"True\")\n",
        "else:\n",
        "  print(\"False\")"
      ],
      "metadata": {
        "colab": {
          "base_uri": "https://localhost:8080/"
        },
        "id": "TjikIlALelgP",
        "outputId": "41b42e4c-847a-467f-ea60-f251c79f2f41"
      },
      "execution_count": 84,
      "outputs": [
        {
          "output_type": "stream",
          "name": "stdout",
          "text": [
            "False\n"
          ]
        }
      ]
    },
    {
      "cell_type": "code",
      "source": [],
      "metadata": {
        "id": "VzyeOJrke8sS"
      },
      "execution_count": null,
      "outputs": []
    }
  ]
}